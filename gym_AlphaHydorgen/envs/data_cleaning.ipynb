{
 "cells": [
  {
   "cell_type": "code",
   "execution_count": 1,
   "metadata": {},
   "outputs": [],
   "source": [
    "import pandas as pd"
   ]
  },
  {
   "cell_type": "code",
   "execution_count": 3,
   "metadata": {},
   "outputs": [
    {
     "name": "stderr",
     "output_type": "stream",
     "text": [
      "<ipython-input-3-7a7c5289f56d>:6: FutureWarning: The pandas.datetime class is deprecated and will be removed from pandas in a future version. Import from datetime module instead.\n",
      "  start_time = pd.datetime(year = 2019, month = 1, day =1)\n"
     ]
    }
   ],
   "source": [
    "for i in range(1,4):\n",
    "\n",
    "    data = pd.read_csv('data/building{}.csv'.format(i), index_col=0)\n",
    "    data=data.iloc[1:,:]\n",
    "\n",
    "    start_time = pd.datetime(year = 2019, month = 1, day =1)\n",
    "    data.index = pd.date_range(start=start_time, periods=data.shape[0], freq = '15T')\n",
    "\n",
    "    data_hour = data.resample('1H').mean()\n",
    "    data_hour.index = range(8760)\n",
    "\n",
    "    data_load = data_hour[['Total building demand']]/3600\n",
    "    data_load.columns = ['load']\n",
    "    data_pv = data_hour[['PV power']]/3600\n",
    "    data_pv.columns = ['pv']\n",
    "\n",
    "    data_load.to_csv('inputs/building{}.csv'.format(i))\n",
    "    data_pv.to_csv('inputs/pv{}.csv'.format(i))"
   ]
  },
  {
   "cell_type": "code",
   "execution_count": null,
   "metadata": {},
   "outputs": [],
   "source": []
  }
 ],
 "metadata": {
  "hide_input": false,
  "kernelspec": {
   "display_name": "Python 3 (ipykernel)",
   "language": "python",
   "name": "python3"
  },
  "language_info": {
   "codemirror_mode": {
    "name": "ipython",
    "version": 3
   },
   "file_extension": ".py",
   "mimetype": "text/x-python",
   "name": "python",
   "nbconvert_exporter": "python",
   "pygments_lexer": "ipython3",
   "version": "3.8.11"
  },
  "toc": {
   "base_numbering": 1,
   "nav_menu": {},
   "number_sections": true,
   "sideBar": true,
   "skip_h1_title": false,
   "title_cell": "Table of Contents",
   "title_sidebar": "Contents",
   "toc_cell": false,
   "toc_position": {},
   "toc_section_display": true,
   "toc_window_display": false
  },
  "varInspector": {
   "cols": {
    "lenName": 16,
    "lenType": 16,
    "lenVar": 40
   },
   "kernels_config": {
    "python": {
     "delete_cmd_postfix": "",
     "delete_cmd_prefix": "del ",
     "library": "var_list.py",
     "varRefreshCmd": "print(var_dic_list())"
    },
    "r": {
     "delete_cmd_postfix": ") ",
     "delete_cmd_prefix": "rm(",
     "library": "var_list.r",
     "varRefreshCmd": "cat(var_dic_list()) "
    }
   },
   "types_to_exclude": [
    "module",
    "function",
    "builtin_function_or_method",
    "instance",
    "_Feature"
   ],
   "window_display": false
  }
 },
 "nbformat": 4,
 "nbformat_minor": 2
}
