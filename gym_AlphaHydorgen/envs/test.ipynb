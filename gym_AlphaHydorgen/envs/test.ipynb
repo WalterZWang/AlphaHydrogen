{
 "cells": [
  {
   "cell_type": "code",
   "execution_count": 1,
   "metadata": {},
   "outputs": [],
   "source": [
    "from model import *"
   ]
  },
  {
   "cell_type": "code",
   "execution_count": 2,
   "metadata": {},
   "outputs": [],
   "source": [
    "from datetime import datetime"
   ]
  },
  {
   "cell_type": "markdown",
   "metadata": {},
   "source": [
    "## Test the building and PV module"
   ]
  },
  {
   "cell_type": "code",
   "execution_count": 3,
   "metadata": {},
   "outputs": [],
   "source": [
    "building1_csv = 'inputs/building1.csv'\n",
    "building2_csv = 'inputs/building2.csv'\n",
    "building3_csv = 'inputs/building3.csv'\n",
    "pv1_csv = 'inputs/pv1.csv'\n",
    "pv2_csv = 'inputs/pv2.csv'\n",
    "pv3_csv = 'inputs/pv3.csv'\n",
    "\n",
    "stepLenth = 15*60 # unit: s\n",
    "\n",
    "building1 = Building(building1_csv, stepLenth)\n",
    "building2 = Building(building2_csv, stepLenth)\n",
    "building3 = Building(building3_csv, stepLenth)\n",
    "pv1 = PV(pv1_csv, stepLenth)\n",
    "pv2 = PV(pv2_csv, stepLenth)\n",
    "pv3 = PV(pv3_csv, stepLenth)"
   ]
  },
  {
   "cell_type": "code",
   "execution_count": 4,
   "metadata": {},
   "outputs": [
    {
     "name": "stdout",
     "output_type": "stream",
     "text": [
      "At Time step 50, time is 2019-01-01 12:30:00\n",
      "Building1 load is 0.2\n",
      "PV1 generation is 5.75\n"
     ]
    }
   ],
   "source": [
    "timeIndex = building1.getLoadFullYear().index\n",
    "timeStep = 50\n",
    "print('At Time step {}, time is {}'.format(timeStep, timeIndex[timeStep]))\n",
    "print('Building1 load is {}'.format(building1.getLoad(timeStep)))\n",
    "print('PV1 generation is {}'.format(pv1.getPower(timeStep)))"
   ]
  },
  {
   "cell_type": "markdown",
   "metadata": {},
   "source": [
    "## Test the vehicle module"
   ]
  },
  {
   "cell_type": "code",
   "execution_count": 26,
   "metadata": {},
   "outputs": [],
   "source": [
    "fc1 = FuelCell(efficiency=90,  # 90kJ/g -- 25kWh/kg\n",
    "               capacity=100)    # 100kW\n",
    "fc2 = FuelCell(efficiency=90, capacity=100)  # 90kJ/g -- 25kWh/kg, 100kW\n",
    "\n",
    "vehicle1_csv = 'inputs/vehicle1.csv'\n",
    "vehicle2_csv = 'inputs/vehicle2.csv'\n",
    "vehicle3_csv = 'inputs/vehicle3.csv'\n",
    "schd_file = 'inputs/vehicle_atHomeSchd.csv'\n",
    "\n",
    "\n",
    "vhc1 = Vehicle(vehicle1_csv, schd_file, \n",
    "               fuelCell=fc1, \n",
    "               stepLenth=stepLenth\n",
    "               )\n",
    "\n",
    "vhc2 = Vehicle(vehicle2_csv, schd_file, \n",
    "               fuelCell=fc2, \n",
    "               stepLenth=stepLenth\n",
    "               )\n",
    "\n",
    "vhc3 = Vehicle(vehicle3_csv, schd_file, \n",
    "               fuelCell=fc1, \n",
    "               stepLenth=stepLenth\n",
    "               )"
   ]
  },
  {
   "cell_type": "code",
   "execution_count": 42,
   "metadata": {},
   "outputs": [],
   "source": [
    "def test_h2FromStation():\n",
    "\n",
    "    vhc1 = Vehicle(vehicle1_csv, schd_file, \n",
    "               fuelCell=fc1, \n",
    "               stepLenth=stepLenth\n",
    "               )\n",
    "    print(f'Tank Hydrogen after Initiation: {vhc1.tankVol}')\n",
    "    print(f'Tank storage capacity: {vhc1.tankCapacity} g')\n",
    "    print(f'Time step: {stepLenth} s')\n",
    "    ## Charge the vehicle from station, case 1: small charge rate\n",
    "    chargeRate = 1\n",
    "    realChargeRate = vhc1.h2FromStation(chargeRate)\n",
    "    print('------Case 1: small charge rate --------')\n",
    "    print(f'Charge rate command - {chargeRate} g/s; actual - {realChargeRate} g/s')\n",
    "    print(f'Charged hydrogen: {realChargeRate*stepLenth} g')\n",
    "    print(f'Stored hydrogen in the tank: {vhc1.tankVol} g')\n",
    "    \n",
    "    ## Charge the vehicle from station, case 2: large charge rate\n",
    "    print('------Case 2: large charge rate --------')\n",
    "    vhc1 = Vehicle(vehicle1_csv, schd_file, \n",
    "               fuelCell=fc1, \n",
    "               stepLenth=stepLenth\n",
    "               )\n",
    "    chargeRate = 10\n",
    "    realChargeRate = vhc1.h2FromStation(chargeRate)\n",
    "    print(f'Charge rate command - {chargeRate} g/s; actual - {realChargeRate} g/s')\n",
    "    print(f'Charged hydrogen: {realChargeRate*stepLenth} g')\n",
    "    print(f'Stored hydrogen in the tank: {vhc1.tankVol} g')"
   ]
  },
  {
   "cell_type": "code",
   "execution_count": 43,
   "metadata": {},
   "outputs": [
    {
     "name": "stdout",
     "output_type": "stream",
     "text": [
      "Tank Hydrogen after Initiation: 0\n",
      "Tank storage capacity: 5600.0 g\n",
      "Time step: 900 s\n",
      "------Case 1: small charge rate --------\n",
      "Charge rate command - 1 g/s; actual - 1 g/s\n",
      "Charged hydrogen: 900 g\n",
      "Stored hydrogen in the tank: 900 g\n",
      "------Case 2: large charge rate --------\n",
      "Charge rate command - 10 g/s; actual - 6.222222222222222 g/s\n",
      "Charged hydrogen: 5600.0 g\n",
      "Stored hydrogen in the tank: 5600.0 g\n"
     ]
    }
   ],
   "source": [
    "test_h2FromStation()"
   ]
  },
  {
   "cell_type": "code",
   "execution_count": 29,
   "metadata": {},
   "outputs": [],
   "source": [
    "def test_cruise(start_date):\n",
    "    vhc2 = Vehicle(vehicle2_csv, schd_file, \n",
    "               fuelCell=fc1, \n",
    "               stepLenth=stepLenth\n",
    "               )\n",
    "    print(f'Tank storage capacity: {vhc1.tankCapacity} g')\n",
    "    ## Charge the vehicle from station, case 1: small charge rate\n",
    "    date_range = pd.date_range(start=start_date, periods=7, freq='1D')\n",
    "    \n",
    "    for date in date_range:\n",
    "        weekend = date_range[0].dayofweek<5\n",
    "        distance = vhc2._getDistance(weekend)\n",
    "        if vhc2.tankVol < vhc2.fuelEff*distance:\n",
    "            beforeCharge_tankStorage = vhc2.tankVol\n",
    "            chargeRate = 100\n",
    "            realChargeRate = vhc2.h2FromStation(chargeRate)\n",
    "            afterCharge_tankStorage = vhc2.tankVol\n",
    "            print(f'Charge the tank on: {date.strftime(\"%m-%d\")}')\n",
    "            print(f'  tank storage before charge {beforeCharge_tankStorage} g; after charge {afterCharge_tankStorage} g')\n",
    "        beforeCruise_tankStorage = vhc2.tankVol\n",
    "        vhc2.cruise(weekend)\n",
    "        afterCruise_tankStorage = vhc2.tankVol\n",
    "        print(f'Date {date.strftime(\"%m-%d\")}, cruise distance: {distance} km;')\n",
    "        print(f'  tank storage before cruise {beforeCruise_tankStorage} g; after cruise {afterCruise_tankStorage} g')\n"
   ]
  },
  {
   "cell_type": "code",
   "execution_count": 30,
   "metadata": {},
   "outputs": [
    {
     "name": "stdout",
     "output_type": "stream",
     "text": [
      "Tank storage capacity: 5600.0 g\n",
      "Charge the tank on: 01-01\n",
      "  tank storage before charge 0 g; after charge 5600.0 g\n",
      "Date 01-01, cruise distance: 37.075873728066874 km;\n",
      "  tank storage before cruise 5600.0 g; after cruise 5263.499259735132 g\n",
      "Date 01-02, cruise distance: 40.17748360656429 km;\n",
      "  tank storage before cruise 5263.499259735132 g; after cruise 4875.626984981573 g\n",
      "Date 01-03, cruise distance: 44.02392936485207 km;\n",
      "  tank storage before cruise 4875.626984981573 g; after cruise 4483.675004709369 g\n",
      "Date 01-04, cruise distance: 41.008325131476994 km;\n",
      "  tank storage before cruise 4483.675004709369 g; after cruise 4155.160239484091 g\n",
      "Date 01-05, cruise distance: 33.00600061056741 km;\n",
      "  tank storage before cruise 4155.160239484091 g; after cruise 3803.7670172371 g\n",
      "Date 01-06, cruise distance: 38.369913583499205 km;\n",
      "  tank storage before cruise 3803.7670172371 g; after cruise 3491.72670507573 g\n",
      "Date 01-07, cruise distance: 44.31344587823555 km;\n",
      "  tank storage before cruise 3491.72670507573 g; after cruise 3075.861710839489 g\n"
     ]
    }
   ],
   "source": [
    "start_date = datetime(year=2021, month=1, day=1)\n",
    "test_cruise(start_date)"
   ]
  },
  {
   "cell_type": "code",
   "execution_count": 40,
   "metadata": {},
   "outputs": [],
   "source": [
    "def test_eleToGrid():\n",
    "    vhc3 = Vehicle(vehicle3_csv, schd_file, \n",
    "               fuelCell=fc1, \n",
    "               stepLenth=stepLenth\n",
    "               )\n",
    "    print(f'Tank storage capacity: {vhc3.tankCapacity} g')\n",
    "    print(f'Fuel cell efficiency {vhc3.fuelCell.getEff()} kJ/gH2; capacity: {vhc3.fuelCell.getCapacity()} kW')\n",
    "    print(f'Time step: {stepLenth} s')\n",
    "    \n",
    "    chargeRate = 100\n",
    "    realChargeRate = vhc3.h2FromStation(chargeRate)\n",
    "    print(f'Stored hydrogen in the tank: {vhc3.tankVol} g')\n",
    "    \n",
    "    ## V2G, case 1: small charge rate\n",
    "    prev_v2g = vhc3.tankVol\n",
    "    dischargePower = 50  # kW\n",
    "    realDischargeRate = vhc3.eleToGrid(dischargePower)\n",
    "    after_v2g = vhc3.tankVol\n",
    "    consumedH2_tank = prev_v2g-after_v2g\n",
    "    consumedH2_power = realDischargeRate*stepLenth/vhc3.fuelCell.getEff()\n",
    "    print('------Case 1: small charge rate --------')\n",
    "    print(f'Charge rate: command - {dischargePower} kW; actual - {realDischargeRate} kW')\n",
    "    print(f'Consumed H2: tank - {consumedH2_tank} g; power - {consumedH2_power} g')\n",
    "    print(f'Stored hydrogen in the tank: before - {prev_v2g} g; after - {after_v2g} g')\n",
    "    \n",
    "    ## V2G, case 2: large charge rate\n",
    "    prev_v2g = vhc3.tankVol\n",
    "    dischargePower = 150  # kW\n",
    "    realDischargeRate = vhc3.eleToGrid(dischargePower)\n",
    "    after_v2g = vhc3.tankVol\n",
    "    consumedH2_tank = prev_v2g-after_v2g\n",
    "    consumedH2_power = realDischargeRate*stepLenth/vhc3.fuelCell.getEff()\n",
    "    print('------Case 2: small discharge rate --------')\n",
    "    print(f'Charge rate: command - {dischargePower} kW; actual - {realDischargeRate} kW')\n",
    "    print(f'Consumed H2: tank - {consumedH2_tank} g; power - {consumedH2_power} g')\n",
    "    print(f'Stored hydrogen in the tank: before - {prev_v2g} g; after - {after_v2g} g')\n",
    "    \n",
    "    ## V2G, case 3: low H2 storage\n",
    "    vhc3.tankVol = 600\n",
    "    prev_v2g = vhc3.tankVol\n",
    "    dischargePower = 150  # kW\n",
    "    realDischargeRate = vhc3.eleToGrid(dischargePower)\n",
    "    after_v2g = vhc3.tankVol\n",
    "    consumedH2_tank = prev_v2g-after_v2g\n",
    "    consumedH2_power = realDischargeRate*stepLenth/vhc3.fuelCell.getEff()\n",
    "    print('------Case 3: low storage --------')\n",
    "    print(f'Charge rate: command - {dischargePower} kW; actual - {realDischargeRate} kW')\n",
    "    print(f'Consumed H2: tank - {consumedH2_tank} g; power - {consumedH2_power} g')\n",
    "    print(f'Stored hydrogen in the tank: before - {prev_v2g} g; after - {after_v2g} g')"
   ]
  },
  {
   "cell_type": "code",
   "execution_count": 41,
   "metadata": {},
   "outputs": [
    {
     "name": "stdout",
     "output_type": "stream",
     "text": [
      "Tank storage capacity: 5600.0 g\n",
      "Fuel cell efficiency 90 kJ/gH2; capacity: 100 kW\n",
      "Time step: 900 s\n",
      "Stored hydrogen in the tank: 5600.0 g\n",
      "------Case 1: small charge rate --------\n",
      "Charge rate: command - 50 kW; actual - 50 kW\n",
      "Consumed H2: tank - 500.0 g; power - 500.0 g\n",
      "Stored hydrogen in the tank: before - 5600.0 g; after - 5100.0 g\n",
      "------Case 2: small discharge rate --------\n",
      "Charge rate: command - 150 kW; actual - 100 kW\n",
      "Consumed H2: tank - 1000.0 g; power - 1000.0 g\n",
      "Stored hydrogen in the tank: before - 5100.0 g; after - 4100.0 g\n",
      "------Case 3: low storage --------\n",
      "Charge rate: command - 150 kW; actual - 60.0 kW\n",
      "Consumed H2: tank - 600.0 g; power - 600.0 g\n",
      "Stored hydrogen in the tank: before - 600 g; after - 0.0 g\n"
     ]
    }
   ],
   "source": [
    "test_eleToGrid()"
   ]
  },
  {
   "cell_type": "markdown",
   "metadata": {},
   "source": [
    "## Test H2 Station"
   ]
  },
  {
   "cell_type": "code",
   "execution_count": null,
   "metadata": {},
   "outputs": [],
   "source": []
  },
  {
   "cell_type": "code",
   "execution_count": null,
   "metadata": {},
   "outputs": [],
   "source": []
  },
  {
   "cell_type": "code",
   "execution_count": null,
   "metadata": {},
   "outputs": [],
   "source": []
  },
  {
   "cell_type": "code",
   "execution_count": null,
   "metadata": {},
   "outputs": [],
   "source": []
  },
  {
   "cell_type": "code",
   "execution_count": null,
   "metadata": {},
   "outputs": [],
   "source": [
    "vhc1.tankVol"
   ]
  },
  {
   "cell_type": "code",
   "execution_count": null,
   "metadata": {},
   "outputs": [],
   "source": [
    "vhc1.cruise(workingDay=True)"
   ]
  },
  {
   "cell_type": "code",
   "execution_count": null,
   "metadata": {},
   "outputs": [],
   "source": [
    "vhc1.tankVol"
   ]
  },
  {
   "cell_type": "code",
   "execution_count": null,
   "metadata": {},
   "outputs": [],
   "source": [
    "vhc1.eleToGrid(dischargePower=1000)"
   ]
  },
  {
   "cell_type": "code",
   "execution_count": null,
   "metadata": {},
   "outputs": [],
   "source": [
    "vhc1.tankVol"
   ]
  },
  {
   "cell_type": "code",
   "execution_count": null,
   "metadata": {},
   "outputs": [],
   "source": [
    "electrolyzer = Electrolyzer(efficiency=0.005, # 0.005g/kJ -- 56 kWh/kg\n",
    "                            capacity=100      # g/s\n",
    "                            )"
   ]
  },
  {
   "cell_type": "code",
   "execution_count": null,
   "metadata": {},
   "outputs": [],
   "source": [
    "H2Station = H2Station(pipeChargingCapacity=5000,         # g/s\n",
    "                      vehicleDischargingCapacity=1000,   # g/s\n",
    "                      storageCapacity=1000*1000,         # g, data provided  \n",
    "                      electrolyzer=electrolyzer, \n",
    "                      stepLenth=stepLenth\n",
    "                     )"
   ]
  },
  {
   "cell_type": "code",
   "execution_count": null,
   "metadata": {},
   "outputs": [],
   "source": [
    "vhc1.getParkSchd(False).plot()"
   ]
  },
  {
   "cell_type": "code",
   "execution_count": null,
   "metadata": {},
   "outputs": [],
   "source": [
    "vhc1.h2FromStation(100)"
   ]
  },
  {
   "cell_type": "code",
   "execution_count": null,
   "metadata": {},
   "outputs": [],
   "source": [
    "vhc1.tankVol"
   ]
  },
  {
   "cell_type": "code",
   "execution_count": null,
   "metadata": {},
   "outputs": [],
   "source": [
    "vhc1.cruise(workingDay=True)"
   ]
  },
  {
   "cell_type": "code",
   "execution_count": null,
   "metadata": {},
   "outputs": [],
   "source": [
    "vhc1.tankVol"
   ]
  },
  {
   "cell_type": "code",
   "execution_count": null,
   "metadata": {},
   "outputs": [],
   "source": []
  }
 ],
 "metadata": {
  "hide_input": false,
  "kernelspec": {
   "display_name": "Python 3",
   "language": "python",
   "name": "python3"
  },
  "language_info": {
   "codemirror_mode": {
    "name": "ipython",
    "version": 3
   },
   "file_extension": ".py",
   "mimetype": "text/x-python",
   "name": "python",
   "nbconvert_exporter": "python",
   "pygments_lexer": "ipython3",
   "version": "3.8.5"
  },
  "toc": {
   "base_numbering": 1,
   "nav_menu": {},
   "number_sections": true,
   "sideBar": true,
   "skip_h1_title": false,
   "title_cell": "Table of Contents",
   "title_sidebar": "Contents",
   "toc_cell": false,
   "toc_position": {},
   "toc_section_display": true,
   "toc_window_display": false
  },
  "varInspector": {
   "cols": {
    "lenName": 16,
    "lenType": 16,
    "lenVar": 40
   },
   "kernels_config": {
    "python": {
     "delete_cmd_postfix": "",
     "delete_cmd_prefix": "del ",
     "library": "var_list.py",
     "varRefreshCmd": "print(var_dic_list())"
    },
    "r": {
     "delete_cmd_postfix": ") ",
     "delete_cmd_prefix": "rm(",
     "library": "var_list.r",
     "varRefreshCmd": "cat(var_dic_list()) "
    }
   },
   "types_to_exclude": [
    "module",
    "function",
    "builtin_function_or_method",
    "instance",
    "_Feature"
   ],
   "window_display": false
  }
 },
 "nbformat": 4,
 "nbformat_minor": 4
}
